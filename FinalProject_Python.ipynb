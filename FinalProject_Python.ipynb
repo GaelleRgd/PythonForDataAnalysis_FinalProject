{
 "cells": [
  {
   "cell_type": "markdown",
   "metadata": {
    "id": "4SuwV5rMNikL"
   },
   "source": [
    "# **Python for Data Analysis - Final Project**\n",
    "\n",
    "Maxence Raveau - Gaëlle Rigaud"
   ]
  },
  {
   "cell_type": "markdown",
   "metadata": {
    "id": "cJoEsPnJUHrx"
   },
   "source": [
    "---\n",
    "## 0. Introduction \n",
    "\n",
    "In this part, we install all the libraries that we need for the project and import the dataset. \n",
    "\n",
    "The data set is called \"online_shoppers_intentions\" and was donated in august 2018.  Thanks to the description of the dataset, we already know that it contains 12,330 rows, described by 18 variables, and that 84.5% (10,422) were negative class samples that did not end with shopping, and the rest (1908) were positive class samples ending with shopping."
   ]
  },
  {
   "cell_type": "markdown",
   "metadata": {},
   "source": [
    "###  0.1. Importation of libaries"
   ]
  },
  {
   "cell_type": "code",
   "execution_count": 1,
   "metadata": {
    "id": "807RguzoT5ao"
   },
   "outputs": [],
   "source": [
    "import pandas as pd\n",
    "import matplotlib.pyplot as plt\n",
    "import numpy as np\n",
    "import seaborn as sns"
   ]
  },
  {
   "cell_type": "markdown",
   "metadata": {},
   "source": [
    "### 0.2. Importation of the dataset"
   ]
  },
  {
   "cell_type": "code",
   "execution_count": 2,
   "metadata": {
    "colab": {
     "base_uri": "https://localhost:8080/",
     "height": 226
    },
    "id": "aw8BF46Y8CKi",
    "outputId": "cadc877f-f3af-4c0c-e9c4-78702056b225"
   },
   "outputs": [
    {
     "data": {
      "text/html": [
       "<div>\n",
       "<style scoped>\n",
       "    .dataframe tbody tr th:only-of-type {\n",
       "        vertical-align: middle;\n",
       "    }\n",
       "\n",
       "    .dataframe tbody tr th {\n",
       "        vertical-align: top;\n",
       "    }\n",
       "\n",
       "    .dataframe thead th {\n",
       "        text-align: right;\n",
       "    }\n",
       "</style>\n",
       "<table border=\"1\" class=\"dataframe\">\n",
       "  <thead>\n",
       "    <tr style=\"text-align: right;\">\n",
       "      <th></th>\n",
       "      <th>Administrative</th>\n",
       "      <th>Administrative_Duration</th>\n",
       "      <th>Informational</th>\n",
       "      <th>Informational_Duration</th>\n",
       "      <th>ProductRelated</th>\n",
       "      <th>ProductRelated_Duration</th>\n",
       "      <th>BounceRates</th>\n",
       "      <th>ExitRates</th>\n",
       "      <th>PageValues</th>\n",
       "      <th>SpecialDay</th>\n",
       "      <th>Month</th>\n",
       "      <th>OperatingSystems</th>\n",
       "      <th>Browser</th>\n",
       "      <th>Region</th>\n",
       "      <th>TrafficType</th>\n",
       "      <th>VisitorType</th>\n",
       "      <th>Weekend</th>\n",
       "      <th>Revenue</th>\n",
       "    </tr>\n",
       "  </thead>\n",
       "  <tbody>\n",
       "    <tr>\n",
       "      <th>0</th>\n",
       "      <td>0</td>\n",
       "      <td>0.0</td>\n",
       "      <td>0</td>\n",
       "      <td>0.0</td>\n",
       "      <td>1</td>\n",
       "      <td>0.000000</td>\n",
       "      <td>0.20</td>\n",
       "      <td>0.20</td>\n",
       "      <td>0.0</td>\n",
       "      <td>0.0</td>\n",
       "      <td>Feb</td>\n",
       "      <td>1</td>\n",
       "      <td>1</td>\n",
       "      <td>1</td>\n",
       "      <td>1</td>\n",
       "      <td>Returning_Visitor</td>\n",
       "      <td>False</td>\n",
       "      <td>False</td>\n",
       "    </tr>\n",
       "    <tr>\n",
       "      <th>1</th>\n",
       "      <td>0</td>\n",
       "      <td>0.0</td>\n",
       "      <td>0</td>\n",
       "      <td>0.0</td>\n",
       "      <td>2</td>\n",
       "      <td>64.000000</td>\n",
       "      <td>0.00</td>\n",
       "      <td>0.10</td>\n",
       "      <td>0.0</td>\n",
       "      <td>0.0</td>\n",
       "      <td>Feb</td>\n",
       "      <td>2</td>\n",
       "      <td>2</td>\n",
       "      <td>1</td>\n",
       "      <td>2</td>\n",
       "      <td>Returning_Visitor</td>\n",
       "      <td>False</td>\n",
       "      <td>False</td>\n",
       "    </tr>\n",
       "    <tr>\n",
       "      <th>2</th>\n",
       "      <td>0</td>\n",
       "      <td>0.0</td>\n",
       "      <td>0</td>\n",
       "      <td>0.0</td>\n",
       "      <td>1</td>\n",
       "      <td>0.000000</td>\n",
       "      <td>0.20</td>\n",
       "      <td>0.20</td>\n",
       "      <td>0.0</td>\n",
       "      <td>0.0</td>\n",
       "      <td>Feb</td>\n",
       "      <td>4</td>\n",
       "      <td>1</td>\n",
       "      <td>9</td>\n",
       "      <td>3</td>\n",
       "      <td>Returning_Visitor</td>\n",
       "      <td>False</td>\n",
       "      <td>False</td>\n",
       "    </tr>\n",
       "    <tr>\n",
       "      <th>3</th>\n",
       "      <td>0</td>\n",
       "      <td>0.0</td>\n",
       "      <td>0</td>\n",
       "      <td>0.0</td>\n",
       "      <td>2</td>\n",
       "      <td>2.666667</td>\n",
       "      <td>0.05</td>\n",
       "      <td>0.14</td>\n",
       "      <td>0.0</td>\n",
       "      <td>0.0</td>\n",
       "      <td>Feb</td>\n",
       "      <td>3</td>\n",
       "      <td>2</td>\n",
       "      <td>2</td>\n",
       "      <td>4</td>\n",
       "      <td>Returning_Visitor</td>\n",
       "      <td>False</td>\n",
       "      <td>False</td>\n",
       "    </tr>\n",
       "    <tr>\n",
       "      <th>4</th>\n",
       "      <td>0</td>\n",
       "      <td>0.0</td>\n",
       "      <td>0</td>\n",
       "      <td>0.0</td>\n",
       "      <td>10</td>\n",
       "      <td>627.500000</td>\n",
       "      <td>0.02</td>\n",
       "      <td>0.05</td>\n",
       "      <td>0.0</td>\n",
       "      <td>0.0</td>\n",
       "      <td>Feb</td>\n",
       "      <td>3</td>\n",
       "      <td>3</td>\n",
       "      <td>1</td>\n",
       "      <td>4</td>\n",
       "      <td>Returning_Visitor</td>\n",
       "      <td>True</td>\n",
       "      <td>False</td>\n",
       "    </tr>\n",
       "  </tbody>\n",
       "</table>\n",
       "</div>"
      ],
      "text/plain": [
       "   Administrative  Administrative_Duration  Informational  \\\n",
       "0               0                      0.0              0   \n",
       "1               0                      0.0              0   \n",
       "2               0                      0.0              0   \n",
       "3               0                      0.0              0   \n",
       "4               0                      0.0              0   \n",
       "\n",
       "   Informational_Duration  ProductRelated  ProductRelated_Duration  \\\n",
       "0                     0.0               1                 0.000000   \n",
       "1                     0.0               2                64.000000   \n",
       "2                     0.0               1                 0.000000   \n",
       "3                     0.0               2                 2.666667   \n",
       "4                     0.0              10               627.500000   \n",
       "\n",
       "   BounceRates  ExitRates  PageValues  SpecialDay Month  OperatingSystems  \\\n",
       "0         0.20       0.20         0.0         0.0   Feb                 1   \n",
       "1         0.00       0.10         0.0         0.0   Feb                 2   \n",
       "2         0.20       0.20         0.0         0.0   Feb                 4   \n",
       "3         0.05       0.14         0.0         0.0   Feb                 3   \n",
       "4         0.02       0.05         0.0         0.0   Feb                 3   \n",
       "\n",
       "   Browser  Region  TrafficType        VisitorType  Weekend  Revenue  \n",
       "0        1       1            1  Returning_Visitor    False    False  \n",
       "1        2       1            2  Returning_Visitor    False    False  \n",
       "2        1       9            3  Returning_Visitor    False    False  \n",
       "3        2       2            4  Returning_Visitor    False    False  \n",
       "4        3       1            4  Returning_Visitor     True    False  "
      ]
     },
     "execution_count": 2,
     "metadata": {},
     "output_type": "execute_result"
    }
   ],
   "source": [
    "df = pd.read_csv(\"online_shoppers_intention.csv\")\n",
    "df.head()"
   ]
  },
  {
   "cell_type": "code",
   "execution_count": 3,
   "metadata": {
    "colab": {
     "base_uri": "https://localhost:8080/"
    },
    "id": "v5xh0kg8qkMT",
    "outputId": "9311a152-0e93-4896-8ed5-006b4e2d8017"
   },
   "outputs": [
    {
     "data": {
      "text/plain": [
       "(12330, 18)"
      ]
     },
     "execution_count": 3,
     "metadata": {},
     "output_type": "execute_result"
    }
   ],
   "source": [
    "df.shape"
   ]
  },
  {
   "cell_type": "code",
   "execution_count": 4,
   "metadata": {
    "scrolled": true
   },
   "outputs": [
    {
     "name": "stdout",
     "output_type": "stream",
     "text": [
      "<class 'pandas.core.frame.DataFrame'>\n",
      "RangeIndex: 12330 entries, 0 to 12329\n",
      "Data columns (total 18 columns):\n",
      " #   Column                   Non-Null Count  Dtype  \n",
      "---  ------                   --------------  -----  \n",
      " 0   Administrative           12330 non-null  int64  \n",
      " 1   Administrative_Duration  12330 non-null  float64\n",
      " 2   Informational            12330 non-null  int64  \n",
      " 3   Informational_Duration   12330 non-null  float64\n",
      " 4   ProductRelated           12330 non-null  int64  \n",
      " 5   ProductRelated_Duration  12330 non-null  float64\n",
      " 6   BounceRates              12330 non-null  float64\n",
      " 7   ExitRates                12330 non-null  float64\n",
      " 8   PageValues               12330 non-null  float64\n",
      " 9   SpecialDay               12330 non-null  float64\n",
      " 10  Month                    12330 non-null  object \n",
      " 11  OperatingSystems         12330 non-null  int64  \n",
      " 12  Browser                  12330 non-null  int64  \n",
      " 13  Region                   12330 non-null  int64  \n",
      " 14  TrafficType              12330 non-null  int64  \n",
      " 15  VisitorType              12330 non-null  object \n",
      " 16  Weekend                  12330 non-null  bool   \n",
      " 17  Revenue                  12330 non-null  bool   \n",
      "dtypes: bool(2), float64(7), int64(7), object(2)\n",
      "memory usage: 1.5+ MB\n"
     ]
    }
   ],
   "source": [
    "df.info()"
   ]
  },
  {
   "cell_type": "code",
   "execution_count": 5,
   "metadata": {
    "colab": {
     "base_uri": "https://localhost:8080/",
     "height": 320
    },
    "id": "JlVoH3liU0Sm",
    "outputId": "91bae7fe-1ef0-44e6-e498-e26a3667d51c"
   },
   "outputs": [
    {
     "data": {
      "text/html": [
       "<div>\n",
       "<style scoped>\n",
       "    .dataframe tbody tr th:only-of-type {\n",
       "        vertical-align: middle;\n",
       "    }\n",
       "\n",
       "    .dataframe tbody tr th {\n",
       "        vertical-align: top;\n",
       "    }\n",
       "\n",
       "    .dataframe thead th {\n",
       "        text-align: right;\n",
       "    }\n",
       "</style>\n",
       "<table border=\"1\" class=\"dataframe\">\n",
       "  <thead>\n",
       "    <tr style=\"text-align: right;\">\n",
       "      <th></th>\n",
       "      <th>Administrative</th>\n",
       "      <th>Administrative_Duration</th>\n",
       "      <th>Informational</th>\n",
       "      <th>Informational_Duration</th>\n",
       "      <th>ProductRelated</th>\n",
       "      <th>ProductRelated_Duration</th>\n",
       "      <th>BounceRates</th>\n",
       "      <th>ExitRates</th>\n",
       "      <th>PageValues</th>\n",
       "      <th>SpecialDay</th>\n",
       "      <th>OperatingSystems</th>\n",
       "      <th>Browser</th>\n",
       "      <th>Region</th>\n",
       "      <th>TrafficType</th>\n",
       "    </tr>\n",
       "  </thead>\n",
       "  <tbody>\n",
       "    <tr>\n",
       "      <th>count</th>\n",
       "      <td>12330.000000</td>\n",
       "      <td>12330.000000</td>\n",
       "      <td>12330.000000</td>\n",
       "      <td>12330.000000</td>\n",
       "      <td>12330.000000</td>\n",
       "      <td>12330.000000</td>\n",
       "      <td>12330.000000</td>\n",
       "      <td>12330.000000</td>\n",
       "      <td>12330.000000</td>\n",
       "      <td>12330.000000</td>\n",
       "      <td>12330.000000</td>\n",
       "      <td>12330.000000</td>\n",
       "      <td>12330.000000</td>\n",
       "      <td>12330.000000</td>\n",
       "    </tr>\n",
       "    <tr>\n",
       "      <th>mean</th>\n",
       "      <td>2.315166</td>\n",
       "      <td>80.818611</td>\n",
       "      <td>0.503569</td>\n",
       "      <td>34.472398</td>\n",
       "      <td>31.731468</td>\n",
       "      <td>1194.746220</td>\n",
       "      <td>0.022191</td>\n",
       "      <td>0.043073</td>\n",
       "      <td>5.889258</td>\n",
       "      <td>0.061427</td>\n",
       "      <td>2.124006</td>\n",
       "      <td>2.357097</td>\n",
       "      <td>3.147364</td>\n",
       "      <td>4.069586</td>\n",
       "    </tr>\n",
       "    <tr>\n",
       "      <th>std</th>\n",
       "      <td>3.321784</td>\n",
       "      <td>176.779107</td>\n",
       "      <td>1.270156</td>\n",
       "      <td>140.749294</td>\n",
       "      <td>44.475503</td>\n",
       "      <td>1913.669288</td>\n",
       "      <td>0.048488</td>\n",
       "      <td>0.048597</td>\n",
       "      <td>18.568437</td>\n",
       "      <td>0.198917</td>\n",
       "      <td>0.911325</td>\n",
       "      <td>1.717277</td>\n",
       "      <td>2.401591</td>\n",
       "      <td>4.025169</td>\n",
       "    </tr>\n",
       "    <tr>\n",
       "      <th>min</th>\n",
       "      <td>0.000000</td>\n",
       "      <td>0.000000</td>\n",
       "      <td>0.000000</td>\n",
       "      <td>0.000000</td>\n",
       "      <td>0.000000</td>\n",
       "      <td>0.000000</td>\n",
       "      <td>0.000000</td>\n",
       "      <td>0.000000</td>\n",
       "      <td>0.000000</td>\n",
       "      <td>0.000000</td>\n",
       "      <td>1.000000</td>\n",
       "      <td>1.000000</td>\n",
       "      <td>1.000000</td>\n",
       "      <td>1.000000</td>\n",
       "    </tr>\n",
       "    <tr>\n",
       "      <th>25%</th>\n",
       "      <td>0.000000</td>\n",
       "      <td>0.000000</td>\n",
       "      <td>0.000000</td>\n",
       "      <td>0.000000</td>\n",
       "      <td>7.000000</td>\n",
       "      <td>184.137500</td>\n",
       "      <td>0.000000</td>\n",
       "      <td>0.014286</td>\n",
       "      <td>0.000000</td>\n",
       "      <td>0.000000</td>\n",
       "      <td>2.000000</td>\n",
       "      <td>2.000000</td>\n",
       "      <td>1.000000</td>\n",
       "      <td>2.000000</td>\n",
       "    </tr>\n",
       "    <tr>\n",
       "      <th>50%</th>\n",
       "      <td>1.000000</td>\n",
       "      <td>7.500000</td>\n",
       "      <td>0.000000</td>\n",
       "      <td>0.000000</td>\n",
       "      <td>18.000000</td>\n",
       "      <td>598.936905</td>\n",
       "      <td>0.003112</td>\n",
       "      <td>0.025156</td>\n",
       "      <td>0.000000</td>\n",
       "      <td>0.000000</td>\n",
       "      <td>2.000000</td>\n",
       "      <td>2.000000</td>\n",
       "      <td>3.000000</td>\n",
       "      <td>2.000000</td>\n",
       "    </tr>\n",
       "    <tr>\n",
       "      <th>75%</th>\n",
       "      <td>4.000000</td>\n",
       "      <td>93.256250</td>\n",
       "      <td>0.000000</td>\n",
       "      <td>0.000000</td>\n",
       "      <td>38.000000</td>\n",
       "      <td>1464.157213</td>\n",
       "      <td>0.016813</td>\n",
       "      <td>0.050000</td>\n",
       "      <td>0.000000</td>\n",
       "      <td>0.000000</td>\n",
       "      <td>3.000000</td>\n",
       "      <td>2.000000</td>\n",
       "      <td>4.000000</td>\n",
       "      <td>4.000000</td>\n",
       "    </tr>\n",
       "    <tr>\n",
       "      <th>max</th>\n",
       "      <td>27.000000</td>\n",
       "      <td>3398.750000</td>\n",
       "      <td>24.000000</td>\n",
       "      <td>2549.375000</td>\n",
       "      <td>705.000000</td>\n",
       "      <td>63973.522230</td>\n",
       "      <td>0.200000</td>\n",
       "      <td>0.200000</td>\n",
       "      <td>361.763742</td>\n",
       "      <td>1.000000</td>\n",
       "      <td>8.000000</td>\n",
       "      <td>13.000000</td>\n",
       "      <td>9.000000</td>\n",
       "      <td>20.000000</td>\n",
       "    </tr>\n",
       "  </tbody>\n",
       "</table>\n",
       "</div>"
      ],
      "text/plain": [
       "       Administrative  Administrative_Duration  Informational  \\\n",
       "count    12330.000000             12330.000000   12330.000000   \n",
       "mean         2.315166                80.818611       0.503569   \n",
       "std          3.321784               176.779107       1.270156   \n",
       "min          0.000000                 0.000000       0.000000   \n",
       "25%          0.000000                 0.000000       0.000000   \n",
       "50%          1.000000                 7.500000       0.000000   \n",
       "75%          4.000000                93.256250       0.000000   \n",
       "max         27.000000              3398.750000      24.000000   \n",
       "\n",
       "       Informational_Duration  ProductRelated  ProductRelated_Duration  \\\n",
       "count            12330.000000    12330.000000             12330.000000   \n",
       "mean                34.472398       31.731468              1194.746220   \n",
       "std                140.749294       44.475503              1913.669288   \n",
       "min                  0.000000        0.000000                 0.000000   \n",
       "25%                  0.000000        7.000000               184.137500   \n",
       "50%                  0.000000       18.000000               598.936905   \n",
       "75%                  0.000000       38.000000              1464.157213   \n",
       "max               2549.375000      705.000000             63973.522230   \n",
       "\n",
       "        BounceRates     ExitRates    PageValues    SpecialDay  \\\n",
       "count  12330.000000  12330.000000  12330.000000  12330.000000   \n",
       "mean       0.022191      0.043073      5.889258      0.061427   \n",
       "std        0.048488      0.048597     18.568437      0.198917   \n",
       "min        0.000000      0.000000      0.000000      0.000000   \n",
       "25%        0.000000      0.014286      0.000000      0.000000   \n",
       "50%        0.003112      0.025156      0.000000      0.000000   \n",
       "75%        0.016813      0.050000      0.000000      0.000000   \n",
       "max        0.200000      0.200000    361.763742      1.000000   \n",
       "\n",
       "       OperatingSystems       Browser        Region   TrafficType  \n",
       "count      12330.000000  12330.000000  12330.000000  12330.000000  \n",
       "mean           2.124006      2.357097      3.147364      4.069586  \n",
       "std            0.911325      1.717277      2.401591      4.025169  \n",
       "min            1.000000      1.000000      1.000000      1.000000  \n",
       "25%            2.000000      2.000000      1.000000      2.000000  \n",
       "50%            2.000000      2.000000      3.000000      2.000000  \n",
       "75%            3.000000      2.000000      4.000000      4.000000  \n",
       "max            8.000000     13.000000      9.000000     20.000000  "
      ]
     },
     "execution_count": 5,
     "metadata": {},
     "output_type": "execute_result"
    }
   ],
   "source": [
    "df.describe()"
   ]
  },
  {
   "cell_type": "markdown",
   "metadata": {},
   "source": [
    "The dataset represents shopping intentions of customers on a web site. According to the source : \"The dataset was formed so that each session would belong to a different user in a 1-year period to avoid any tendency to a specific campaign, special day, user profile, or period.\"\n",
    "\n",
    "We now clearly see the 12,330 entries of the dataset and their 18 describing variables. 10 of these variables are numerical and the other 8 variables are categorical. Our target variable is the \"Revenue\" variable. It's a boolean variable which indicates if there was a sale or not in a particular session. Besides, it's important to note that there is no missing value in the dataset. \n",
    "\n",
    "Now that we have casted a glance to our dataset, let's go further and visualize the importance of each variables in the explanation of the target."
   ]
  },
  {
   "cell_type": "markdown",
   "metadata": {
    "id": "kVfvNNFMVQaS"
   },
   "source": [
    "---\n",
    "## 1. Data Visualization \n",
    "\n",
    "The aim of this part is to apprehend the dataset and to visualize the link between the variables and the target, which is the \"Revenue\" variable. The \"Revenue\" column contains boolean values. If it is True, the consumer bought the product designated in the \"ProductRelated\" column. If it is False, it means that the consumer consulted the page of the product without buying it.\n"
   ]
  },
  {
   "cell_type": "markdown",
   "metadata": {
    "id": "j5ZN8HcuWkEW"
   },
   "source": [
    "### 1.1. Number of sales \n",
    "Let's see how many sales have been made by month. For this, we need the list of months that exist in the dataset and the number of \"True\" values in the column \"Revenue\", grouped by month. Then, we will present these numbers in a bar plot. "
   ]
  },
  {
   "cell_type": "code",
   "execution_count": 6,
   "metadata": {
    "id": "qggKE3hR90VR"
   },
   "outputs": [],
   "source": [
    "monthsList = df[\"Month\"].value_counts().index.to_numpy() #List of distinct months in the \"Month\" column \n",
    "allSales = df.loc[ df[\"Revenue\"] == True ] #All the rows with a \"True\" value in the \"Revenue\" column (ie. all the consultations that were concluded by a sale)\n",
    "salesPerMonth = allSales.groupby(\"Month\").count()[\"Revenue\"] #Total of sales per month \n",
    "sortedMonths = ['Feb','Mar','May','June','Jul','Aug','Sep','Oct','Nov','Dec']"
   ]
  },
  {
   "cell_type": "code",
   "execution_count": 7,
   "metadata": {
    "colab": {
     "base_uri": "https://localhost:8080/",
     "height": 0
    },
    "id": "HbfDAJMy8Szo",
    "outputId": "23fba571-21d0-4256-aa01-3b9e73eb665f"
   },
   "outputs": [
    {
     "data": {
      "text/plain": [
       "Text(0, 0.5, 'Number of sales')"
      ]
     },
     "execution_count": 7,
     "metadata": {},
     "output_type": "execute_result"
    },
    {
     "data": {
      "image/png": "[encoded data removed]",
      "text/plain": [
       "<Figure size 432x288 with 1 Axes>"
      ]
     },
     "metadata": {
      "needs_background": "light"
     },
     "output_type": "display_data"
    }
   ],
   "source": [
    "#Bar plot visualization of the number of sales per month \n",
    "figure = plt.figure() \n",
    "axes = figure.add_axes([0,0,1,1])\n",
    "axes.bar( sortedMonths, salesPerMonth )\n",
    "axes.set_title(\"Number of sales per month\")\n",
    "axes.set_xlabel(\"Month of the year\")\n",
    "axes.set_ylabel(\"Number of sales\")"
   ]
  },
  {
   "cell_type": "markdown",
   "metadata": {
    "id": "YzLZZZHOWFKO"
   },
   "source": [
    "We also want to see the number of sales per region. "
   ]
  },
  {
   "cell_type": "code",
   "execution_count": 8,
   "metadata": {
    "id": "XkBzlzrqRlv7"
   },
   "outputs": [],
   "source": [
    "regionsList = df[\"Region\"].value_counts().index #List of distinct Region in the \"Region\" column \n",
    "salesPerRegion = allSales.groupby(\"Region\").count()[\"Revenue\"] #Total of sales per region "
   ]
  },
  {
   "cell_type": "code",
   "execution_count": 9,
   "metadata": {
    "colab": {
     "base_uri": "https://localhost:8080/",
     "height": 0
    },
    "id": "7utAjpBobvfL",
    "outputId": "9ab8989a-dc34-406a-fddc-45ec015327de"
   },
   "outputs": [
    {
     "data": {
      "text/plain": [
       "([<matplotlib.axis.XTick at 0x1d943815040>,\n",
       "  <matplotlib.axis.XTick at 0x1d943812fd0>,\n",
       "  <matplotlib.axis.XTick at 0x1d9437ff160>,\n",
       "  <matplotlib.axis.XTick at 0x1d9438512e0>,\n",
       "  <matplotlib.axis.XTick at 0x1d9438517f0>,\n",
       "  <matplotlib.axis.XTick at 0x1d943851550>,\n",
       "  <matplotlib.axis.XTick at 0x1d943851eb0>,\n",
       "  <matplotlib.axis.XTick at 0x1d943857400>,\n",
       "  <matplotlib.axis.XTick at 0x1d943857910>],\n",
       " <a list of 9 Text major ticklabel objects>)"
      ]
     },
     "execution_count": 9,
     "metadata": {},
     "output_type": "execute_result"
    },
    {
     "data": {
      "image/png": "[encoded data removed]",
      "text/plain": [
       "<Figure size 432x288 with 1 Axes>"
      ]
     },
     "metadata": {
      "needs_background": "light"
     },
     "output_type": "display_data"
    }
   ],
   "source": [
    "figure = plt.figure() \n",
    "axes = figure.add_axes([0,0,1,1])\n",
    "axes.bar( regionsList, salesPerRegion )\n",
    "axes.set_title(\"Number of sales per Region\")\n",
    "axes.set_xlabel(\"Region\")\n",
    "axes.set_ylabel(\"Number of sales\")\n",
    "plt.xticks(regionsList)"
   ]
  },
  {
   "cell_type": "markdown",
   "metadata": {
    "id": "P1ZwE5ozennj"
   },
   "source": [
    "### 1.2. Never Purchased Products\n",
    "\n",
    "Now that we have studied the sales, we would also like to know if there are products in the dataset that are never bought. And if they exist, we also would like to have the list of them. \n",
    "\n",
    "To do this, we get the list of all the product there have been consulted but not purchased at least. Indeed, it correspond to the rows with a value \"False\" in the \"Revenue\" column. Thus, we have divided the dataset into two sub-datasets : the \"allSales\" dataset that contains all the rows concluded by a sale and \"noSale\" dataset that contains all the rows that didn't lead to a sale."
   ]
  },
  {
   "cell_type": "code",
   "execution_count": 10,
   "metadata": {
    "colab": {
     "base_uri": "https://localhost:8080/"
    },
    "id": "N8TIFYX0e1od",
    "outputId": "50368d5b-fe67-4e06-f826-e81bfecc80da"
   },
   "outputs": [
    {
     "data": {
      "text/plain": [
       "True"
      ]
     },
     "execution_count": 10,
     "metadata": {},
     "output_type": "execute_result"
    }
   ],
   "source": [
    "noSale = df[df[\"Revenue\"]==False] #All the rows with a \"False\" value in the \"Revenue\" column\n",
    "len(allSales) + len(noSale) == len(df)"
   ]
  },
  {
   "cell_type": "markdown",
   "metadata": {
    "id": "OuvwQ5sje8UW"
   },
   "source": [
    "In order to see if there are products that are never bought, we also need to get the list of the purchased products and the list of all the products that exist in our dataset. \n",
    "\n",
    "Then, we verify that the list of purchased products is a subset of the list of all products. If it is True, it means that not all products of the dataset are bought, at least once. So, it exists products in the dataset that are never bought. "
   ]
  },
  {
   "cell_type": "code",
   "execution_count": 11,
   "metadata": {
    "colab": {
     "base_uri": "https://localhost:8080/"
    },
    "id": "iL1Mg8-xfB5J",
    "outputId": "1d129505-198c-41f2-d312-4fba893f8b38"
   },
   "outputs": [
    {
     "data": {
      "text/plain": [
       "True"
      ]
     },
     "execution_count": 11,
     "metadata": {},
     "output_type": "execute_result"
    }
   ],
   "source": [
    "purchasedProducts = allSales[\"ProductRelated\"].value_counts().index.to_numpy() #Array containing all the products that were purchased (at least once)7\n",
    "allProducts = df[\"ProductRelated\"].value_counts().index.to_numpy() #Array containing all the products of the dataset \n",
    "\n",
    "set.issubset(set(purchasedProducts),set(allProducts)) #Test if some products are in the dataset but are never purchased | Result = True"
   ]
  },
  {
   "cell_type": "markdown",
   "metadata": {
    "id": "JdSHR6AItXY0"
   },
   "source": [
    "Now we know that they exist, we want to get all these products that are never purchased. In order to have this, we create a function that go through the list containing all the products of the dataset. For each product, the function verify if the product is also in the list of the bought products. If not, the function add the product to the list of product that are never purchased. The function returns this list. "
   ]
  },
  {
   "cell_type": "code",
   "execution_count": 12,
   "metadata": {
    "colab": {
     "base_uri": "https://localhost:8080/"
    },
    "id": "-NKfH0tgtYFn",
    "outputId": "24ecd119-a9fc-4737-f06e-c6cba1d96ed9"
   },
   "outputs": [
    {
     "data": {
      "text/plain": [
       "array([103, 141, 128, 105, 151, 179, 121, 222, 143, 135, 187, 230, 227,\n",
       "       181, 169, 280, 184, 168, 337, 180, 188, 204, 220, 231, 206, 190,\n",
       "       256, 272, 312, 328, 262, 440, 584, 254, 246, 158, 374, 223, 391,\n",
       "       351, 343, 311, 287, 279, 271, 255, 247, 207, 358, 191, 686, 518,\n",
       "       486, 414, 192, 349, 429, 378, 423, 315, 291, 283, 275, 251, 211,\n",
       "       362, 290, 282, 274, 266, 210, 705, 449, 205, 177, 340, 217, 241,\n",
       "       281, 305, 313, 377, 385, 292, 409, 339], dtype=int64)"
      ]
     },
     "execution_count": 12,
     "metadata": {},
     "output_type": "execute_result"
    }
   ],
   "source": [
    "def findNeverBoughtProducts(boughtProducts, allProd) :\n",
    "  neverBoughtProducts = []\n",
    "  for item in allProd :\n",
    "    if not item in boughtProducts : \n",
    "      neverBoughtProducts.append(item)\n",
    "  return neverBoughtProducts\n",
    "\n",
    "neverBoughtProducts = np.array(findNeverBoughtProducts(purchasedProducts,allProducts))\n",
    "neverBoughtProducts"
   ]
  },
  {
   "cell_type": "code",
   "execution_count": 13,
   "metadata": {
    "colab": {
     "base_uri": "https://localhost:8080/"
    },
    "id": "JeHVn-USuXru",
    "outputId": "836c6d32-f562-4299-c7ae-d27875b03d8d"
   },
   "outputs": [
    {
     "data": {
      "text/plain": [
       "86"
      ]
     },
     "execution_count": 13,
     "metadata": {},
     "output_type": "execute_result"
    }
   ],
   "source": [
    "len(neverBoughtProducts)"
   ]
  },
  {
   "cell_type": "markdown",
   "metadata": {
    "id": "hXG8S0lbuXYF"
   },
   "source": [
    "Finally, we obtain a list of 86 products that are in the dataset but never purchased by any costumer. \n",
    "\n",
    "Just to be sure, we create second function to test if our list of never bought products is correct. The fonction go thought the list of the never purchased products and, for each product, it verify if the product is not in the \"purchased products\" list. The function returns True is none of the products in the \"never bought\" list appear in the \"purchased\" list. "
   ]
  },
  {
   "cell_type": "code",
   "execution_count": 14,
   "metadata": {
    "colab": {
     "base_uri": "https://localhost:8080/"
    },
    "id": "s41pJxGEuc6o",
    "outputId": "af49b049-0eca-4b34-89eb-7089eaba552a"
   },
   "outputs": [
    {
     "data": {
      "text/plain": [
       "True"
      ]
     },
     "execution_count": 14,
     "metadata": {},
     "output_type": "execute_result"
    }
   ],
   "source": [
    "def TestNeverBoughtProducts(never, bought) : \n",
    "  correct = True \n",
    "  cursor = 0 \n",
    "  while correct and cursor<len(never) : \n",
    "    if never[cursor] in bought : \n",
    "      correct = False\n",
    "    cursor += 1\n",
    "  return correct\n",
    "\n",
    "TestNeverBoughtProducts(neverBoughtProducts,purchasedProducts)"
   ]
  },
  {
   "cell_type": "markdown",
   "metadata": {
    "id": "C-Q64sQ2cKi-"
   },
   "source": [
    "### 1.3. Most Consulted and Most Purchased Products\n",
    "Now we will focus on the products, their sales, their consultations, ... "
   ]
  },
  {
   "cell_type": "markdown",
   "metadata": {
    "id": "3ppO7ugdRqXH"
   },
   "source": [
    "Let's etudiate the number of consultation for each product. "
   ]
  },
  {
   "cell_type": "code",
   "execution_count": 15,
   "metadata": {
    "id": "GzhcQYTVOri8"
   },
   "outputs": [],
   "source": [
    "numberOfConsultationByProduct = df[\"ProductRelated\"].value_counts()#Table of all the products that exist in the dataset and the number of time they were consulted \n",
    "#differentProducts = df[\"ProductRelated\"].value_counts().index #List of the different products that exist in the dataset."
   ]
  },
  {
   "cell_type": "code",
   "execution_count": 16,
   "metadata": {
    "colab": {
     "base_uri": "https://localhost:8080/"
    },
    "id": "betzCPkDRB0P",
    "outputId": "e3c71541-ae4a-430c-d09d-77332ed1dd3a"
   },
   "outputs": [
    {
     "data": {
      "text/plain": [
       "1     622\n",
       "2     465\n",
       "3     458\n",
       "4     404\n",
       "6     396\n",
       "7     391\n",
       "5     382\n",
       "8     370\n",
       "10    330\n",
       "9     317\n",
       "Name: ProductRelated, dtype: int64"
      ]
     },
     "execution_count": 16,
     "metadata": {},
     "output_type": "execute_result"
    }
   ],
   "source": [
    "# Top 10 of most consulted products \n",
    "top10 = numberOfConsultationByProduct.head(10) #First column = name of the product, second colum = number of cosultations \n",
    "top10"
   ]
  },
  {
   "cell_type": "code",
   "execution_count": 17,
   "metadata": {
    "colab": {
     "base_uri": "https://localhost:8080/"
    },
    "id": "CtuGo_CuRaXv",
    "outputId": "e0f1e999-af16-4c29-9a32-09d3256ca4a3"
   },
   "outputs": [
    {
     "data": {
      "text/plain": [
       "241    1\n",
       "281    1\n",
       "305    1\n",
       "313    1\n",
       "324    1\n",
       "377    1\n",
       "385    1\n",
       "292    1\n",
       "409    1\n",
       "339    1\n",
       "Name: ProductRelated, dtype: int64"
      ]
     },
     "execution_count": 17,
     "metadata": {},
     "output_type": "execute_result"
    }
   ],
   "source": [
    "# Top 10 of less consulted products \n",
    "numberOfConsultationByProduct.tail(10) #First column = name of the product, second colum = number of cosultations "
   ]
  },
  {
   "cell_type": "markdown",
   "metadata": {
    "id": "aVrmZ9PAR1FQ"
   },
   "source": [
    "Now we want the list of the most and less sold products. For this, we will use the \"allSales\" dataset creates before. "
   ]
  },
  {
   "cell_type": "code",
   "execution_count": 18,
   "metadata": {
    "id": "x8MBwYrfUDyz"
   },
   "outputs": [],
   "source": [
    "numberOfSalesPerProduct = allSales[\"ProductRelated\"].value_counts() #The number of sale per product"
   ]
  },
  {
   "cell_type": "code",
   "execution_count": 19,
   "metadata": {
    "colab": {
     "base_uri": "https://localhost:8080/"
    },
    "id": "8krClJtdVJIy",
    "outputId": "14c21575-5b49-4e92-d7f9-0dbf468c6ef0"
   },
   "outputs": [
    {
     "data": {
      "text/plain": [
       "10    50\n",
       "13    45\n",
       "22    44\n",
       "14    43\n",
       "21    42\n",
       "19    42\n",
       "8     42\n",
       "17    40\n",
       "12    40\n",
       "15    40\n",
       "Name: ProductRelated, dtype: int64"
      ]
     },
     "execution_count": 19,
     "metadata": {},
     "output_type": "execute_result"
    }
   ],
   "source": [
    "# Top 10 of the most sold products \n",
    "top10Sales = numberOfSalesPerProduct.head(10)\n",
    "top10Sales"
   ]
  },
  {
   "cell_type": "code",
   "execution_count": 20,
   "metadata": {
    "colab": {
     "base_uri": "https://localhost:8080/"
    },
    "id": "Ww1bLh06VSxR",
    "outputId": "9e5f1ecc-9e47-40c9-a110-6c5201bbbee9"
   },
   "outputs": [
    {
     "data": {
      "text/plain": [
       "186    1\n",
       "163    1\n",
       "183    1\n",
       "182    1\n",
       "173    1\n",
       "172    1\n",
       "170    1\n",
       "166    1\n",
       "165    1\n",
       "534    1\n",
       "Name: ProductRelated, dtype: int64"
      ]
     },
     "execution_count": 20,
     "metadata": {},
     "output_type": "execute_result"
    }
   ],
   "source": [
    "# Top 10 of the less sold products \n",
    "numberOfSalesPerProduct.tail(10)"
   ]
  },
  {
   "cell_type": "markdown",
   "metadata": {
    "id": "v32ap1Szv70y"
   },
   "source": [
    "The utility of this top 10 of the less purchased products can be discussed because we saw in the previous part that it also exist 86 products in the dataset that simply never bought by any costumer. "
   ]
  },
  {
   "cell_type": "markdown",
   "metadata": {
    "id": "eY2XHVSgyrHJ"
   },
   "source": [
    "Knowing that a lot of products are only consulted once, we want to know if theses products also belongs to the list of the \"never bought\" products."
   ]
  },
  {
   "cell_type": "code",
   "execution_count": 66,
   "metadata": {
    "colab": {
     "base_uri": "https://localhost:8080/"
    },
    "id": "OMcTTUg_xECh",
    "outputId": "a6d8f2aa-7291-444c-a52f-2e31498b5f9f"
   },
   "outputs": [
    {
     "data": {
      "text/plain": [
       "0"
      ]
     },
     "execution_count": 66,
     "metadata": {},
     "output_type": "execute_result"
    }
   ],
   "source": [
    "nb = 0\n",
    "for product in numberOfSalesPerProduct.index:\n",
    "  if numberOfSalesPerProduct[product] == 1 :\n",
    "    if numberOfSalesPerProduct[product] in neverBoughtProducts :\n",
    "      nb += 1 \n",
    "nb"
   ]
  },
  {
   "cell_type": "markdown",
   "metadata": {
    "id": "JVXPKWirdn_7"
   },
   "source": [
    "The tops 10 of the less consulted and less sold products are not very interessant. In fact, a lot of products are only seen once and 86 products are never purchased. However, among the products that are only consulted once, none belongs to the list of products thar are never bought. It is to the marketing and selling teams study the eventuality to withdraw a product from sale or to change its presentation page. \n",
    "\n",
    "At the contrary, we can say a lot more about the tops 10 of most consulted and most sold products. In fact, we can see that only two products, the nummber 8 and the number 10, are in the two lists. This means that most of the most consulted products aren't the most sold. It brings light to the fact that maybe the presentation pages of the theses products are not attractive enough for consumers or that the publicity made on these products brought them visibility but without giving the consumers the desire to buy it. "
   ]
  },
  {
   "cell_type": "markdown",
   "metadata": {
    "id": "uKUfZuuQB_9V"
   },
   "source": [
    "### 1.4. Pre-Purchase Behaviour\n",
    "\n",
    "Let's dive further and see the relation between the time spent on a product page and the number of sales of this product. "
   ]
  },
  {
   "cell_type": "code",
   "execution_count": 22,
   "metadata": {
    "colab": {
     "base_uri": "https://localhost:8080/",
     "height": 0
    },
    "id": "wVn7roeVSrbo",
    "outputId": "9d040b47-3898-4151-f0c4-85f313005c28"
   },
   "outputs": [
    {
     "data": {
      "text/html": [
       "<div>\n",
       "<style scoped>\n",
       "    .dataframe tbody tr th:only-of-type {\n",
       "        vertical-align: middle;\n",
       "    }\n",
       "\n",
       "    .dataframe tbody tr th {\n",
       "        vertical-align: top;\n",
       "    }\n",
       "\n",
       "    .dataframe thead th {\n",
       "        text-align: right;\n",
       "    }\n",
       "</style>\n",
       "<table border=\"1\" class=\"dataframe\">\n",
       "  <thead>\n",
       "    <tr style=\"text-align: right;\">\n",
       "      <th></th>\n",
       "      <th>ProductRelated_Duration</th>\n",
       "    </tr>\n",
       "    <tr>\n",
       "      <th>Revenue</th>\n",
       "      <th></th>\n",
       "    </tr>\n",
       "  </thead>\n",
       "  <tbody>\n",
       "    <tr>\n",
       "      <th>False</th>\n",
       "      <td>1069.987809</td>\n",
       "    </tr>\n",
       "    <tr>\n",
       "      <th>True</th>\n",
       "      <td>1876.209615</td>\n",
       "    </tr>\n",
       "  </tbody>\n",
       "</table>\n",
       "</div>"
      ],
      "text/plain": [
       "         ProductRelated_Duration\n",
       "Revenue                         \n",
       "False                1069.987809\n",
       "True                 1876.209615"
      ]
     },
     "execution_count": 22,
     "metadata": {},
     "output_type": "execute_result"
    }
   ],
   "source": [
    "df[[\"ProductRelated_Duration\",\"Revenue\"]].groupby(\"Revenue\").mean()"
   ]
  },
  {
   "cell_type": "markdown",
   "metadata": {
    "id": "kt6HaFVuh5e2"
   },
   "source": [
    "Consumers spend on average more time on the page of a product they are about to buy. This shows the correlation between the time spent on a product page and the number of sales of this product.\n",
    "\n",
    "Now let's see if the number of pages consulted influence the Revenue variable."
   ]
  },
  {
   "cell_type": "code",
   "execution_count": 23,
   "metadata": {
    "colab": {
     "base_uri": "https://localhost:8080/",
     "height": 0
    },
    "id": "FYfTpCGWhfq2",
    "outputId": "d0459af7-4309-4a3b-ccf9-5d39f1cdd463"
   },
   "outputs": [
    {
     "data": {
      "text/html": [
       "<div>\n",
       "<style scoped>\n",
       "    .dataframe tbody tr th:only-of-type {\n",
       "        vertical-align: middle;\n",
       "    }\n",
       "\n",
       "    .dataframe tbody tr th {\n",
       "        vertical-align: top;\n",
       "    }\n",
       "\n",
       "    .dataframe thead th {\n",
       "        text-align: right;\n",
       "    }\n",
       "</style>\n",
       "<table border=\"1\" class=\"dataframe\">\n",
       "  <thead>\n",
       "    <tr style=\"text-align: right;\">\n",
       "      <th></th>\n",
       "      <th>PageValues</th>\n",
       "    </tr>\n",
       "    <tr>\n",
       "      <th>Revenue</th>\n",
       "      <th></th>\n",
       "    </tr>\n",
       "  </thead>\n",
       "  <tbody>\n",
       "    <tr>\n",
       "      <th>False</th>\n",
       "      <td>1.975998</td>\n",
       "    </tr>\n",
       "    <tr>\n",
       "      <th>True</th>\n",
       "      <td>27.264518</td>\n",
       "    </tr>\n",
       "  </tbody>\n",
       "</table>\n",
       "</div>"
      ],
      "text/plain": [
       "         PageValues\n",
       "Revenue            \n",
       "False      1.975998\n",
       "True      27.264518"
      ]
     },
     "execution_count": 23,
     "metadata": {},
     "output_type": "execute_result"
    }
   ],
   "source": [
    "df[[\"PageValues\",\"Revenue\"]].groupby(\"Revenue\").mean()"
   ]
  },
  {
   "cell_type": "markdown",
   "metadata": {
    "id": "44TBVTVgf53N"
   },
   "source": [
    "Consumers browse on average more the website when they buy a products. This shows the correlation between the number of page visited by the customer and the probability for a consumer to buy a product from the website.\n",
    "\n",
    "Now, let's see if new customers are more inclined to buy. "
   ]
  },
  {
   "cell_type": "code",
   "execution_count": 24,
   "metadata": {},
   "outputs": [
    {
     "data": {
      "text/plain": [
       "VisitorType\n",
       "New_Visitor           422\n",
       "Other                  16\n",
       "Returning_Visitor    1470\n",
       "Name: Revenue, dtype: int64"
      ]
     },
     "execution_count": 24,
     "metadata": {},
     "output_type": "execute_result"
    }
   ],
   "source": [
    "allSales.groupby(\"VisitorType\")[\"Revenue\"].count()"
   ]
  },
  {
   "cell_type": "code",
   "execution_count": 25,
   "metadata": {
    "colab": {
     "base_uri": "https://localhost:8080/",
     "height": 194
    },
    "id": "GH-10E_0kPs_",
    "outputId": "e408bff8-e554-4e76-db03-e0f8e0c9d147"
   },
   "outputs": [
    {
     "data": {
      "text/plain": [
       "VisitorType\n",
       "New_Visitor          1272\n",
       "Other                  69\n",
       "Returning_Visitor    9081\n",
       "Name: Revenue, dtype: int64"
      ]
     },
     "execution_count": 25,
     "metadata": {},
     "output_type": "execute_result"
    }
   ],
   "source": [
    "noSale.groupby(\"VisitorType\")[\"Revenue\"].count()"
   ]
  },
  {
   "cell_type": "markdown",
   "metadata": {},
   "source": [
    "Most of people who buy are returning visitors, but it is also the case for people who don't buy. We'll need the correlation matrix to see the relation between the visitor type and the Revenue variable. "
   ]
  },
  {
   "cell_type": "markdown",
   "metadata": {
    "id": "vjpIvXmsGOHm"
   },
   "source": [
    "### 1.5. Sesonal Behaviours \n",
    "\n",
    "In this part of the study, we will try to see if consumers' behaviors change on the weekend or around special days like Valentine's day or Thanksgiving. "
   ]
  },
  {
   "cell_type": "code",
   "execution_count": 26,
   "metadata": {
    "colab": {
     "base_uri": "https://localhost:8080/",
     "height": 0
    },
    "id": "8Xf6UYmeKVuY",
    "outputId": "e9652596-d838-45a8-8926-2abeea005b21"
   },
   "outputs": [
    {
     "data": {
      "text/plain": [
       "Text(0, 0.5, 'Number of sales')"
      ]
     },
     "execution_count": 26,
     "metadata": {},
     "output_type": "execute_result"
    },
    {
     "data": {
      "image/png": "[encoded data removed]",
      "text/plain": [
       "<Figure size 432x288 with 1 Axes>"
      ]
     },
     "metadata": {
      "needs_background": "light"
     },
     "output_type": "display_data"
    }
   ],
   "source": [
    "salesweekend = allSales.groupby(\"Weekend\").count()[\"Revenue\"] #Sales on weekend vs business days\n",
    "figure = plt.figure() \n",
    "axes = figure.add_axes([0,0,1,1])\n",
    "axes.bar( [\"Business Days\",\"Weekend\"], salesweekend )\n",
    "axes.set_title(\"Number of sales in weekend vs business days\")\n",
    "axes.set_xlabel(\"Type of day\")\n",
    "axes.set_ylabel(\"Number of sales\")"
   ]
  },
  {
   "cell_type": "markdown",
   "metadata": {
    "id": "J2T0KF0pgrea"
   },
   "source": [
    "There are way more sales in business days than in the weekend."
   ]
  },
  {
   "cell_type": "code",
   "execution_count": 27,
   "metadata": {
    "colab": {
     "base_uri": "https://localhost:8080/",
     "height": 0
    },
    "id": "qXwNYZvpVGZ6",
    "outputId": "15d6c4f1-8ae9-4560-cbcc-c782fe7d3f5d"
   },
   "outputs": [
    {
     "data": {
      "image/png": "[encoded data removed]",
      "text/plain": [
       "<Figure size 432x288 with 1 Axes>"
      ]
     },
     "metadata": {
      "needs_background": "light"
     },
     "output_type": "display_data"
    }
   ],
   "source": [
    "Sales_special_event = df.loc[ df[\"SpecialDay\"] != 0 ] #All the rows with a with a value different of 0 in the \"SpecialDay\" column (ie. all sales around a special day)\n",
    "fig = plt.figure()\n",
    "axes = fig.add_axes([0,0,1,1])\n",
    "langs = [\"Special Day\", \"Normal Day\"]\n",
    "number = [Sales_special_event.count()[0],allSales.count()[0]-Sales_special_event.count()[0]]\n",
    "axes.bar(langs,number)\n",
    "axes.set_title(\"Number of sales in special days vs normal days\")\n",
    "axes.set_xlabel(\"Type of day\")\n",
    "axes.set_ylabel(\"Number of sales\")\n",
    "plt.show()"
   ]
  },
  {
   "cell_type": "markdown",
   "metadata": {
    "id": "RLtIy8-gg2K5"
   },
   "source": [
    "There are way more sales around special days like mother's day or valentines Day than on normal days."
   ]
  },
  {
   "cell_type": "markdown",
   "metadata": {},
   "source": [
    "### 1.6. Correlation between all the variables"
   ]
  },
  {
   "cell_type": "markdown",
   "metadata": {},
   "source": [
    "In order to visualize the correlation between all the variables, we build a correlation matrix. For more readability, we will present only a half of the correlation matrix (because of the symmetry of the matrix). "
   ]
  },
  {
   "cell_type": "code",
   "execution_count": 28,
   "metadata": {},
   "outputs": [
    {
     "data": {
      "image/png": "[encoded data removed]",
      "text/plain": [
       "<Figure size 936x936 with 2 Axes>"
      ]
     },
     "metadata": {},
     "output_type": "display_data"
    }
   ],
   "source": [
    "corr = df.corr().round(2)\n",
    "\n",
    "mask = np.zeros_like(corr)\n",
    "mask[np.triu_indices_from(mask)] = True\n",
    "with sns.axes_style(\"white\"):\n",
    "    fig, ax = plt.subplots(figsize=(13,13))\n",
    "    sns.heatmap(ax=ax, data=corr, mask=mask, annot=True, center=0, vmin=-1, vmax=1, cmap=\"RdBu_r\");"
   ]
  },
  {
   "cell_type": "markdown",
   "metadata": {},
   "source": [
    "Thanks to this correlation matrix, we see that principal correlation links are : \n",
    " - ExitRate and BounceRate -> 91% of correlation\n",
    " - ProductRelated_Duration and ProductRelated -> 86% of correlation\n",
    " - Informational_Duration and Informational -> 62% of correlation\n",
    " - Administrative_Duration and Administrative -> 60% of correlation\n",
    " - Revenue and PageValues -> 49% of correlation\n",
    "It's important to note that these top correlations are positives. \n",
    "\n",
    "\n",
    "We also see variables that have almost no correlation: \n",
    " - OperatingSystem with ProductRelated and ProductRelated_Duration\n",
    " - Browee with ExitRates and SpecialDay\n",
    " - Weekend with OperatingSystem, Region and TrafficType\n",
    "This is an non-exhaustive list. Many other variables have very low correlation rates. \n",
    "\n",
    "\n",
    "This entire correlation matrix is very interesting but, as we have a target variable, let's now focus on it and see which variables explain its variability the most."
   ]
  },
  {
   "cell_type": "code",
   "execution_count": 29,
   "metadata": {
    "scrolled": true
   },
   "outputs": [
    {
     "data": {
      "text/plain": [
       "PageValues                 0.49\n",
       "ExitRates                  0.21\n",
       "ProductRelated             0.16\n",
       "BounceRates                0.15\n",
       "ProductRelated_Duration    0.15\n",
       "Administrative             0.14\n",
       "Informational              0.10\n",
       "Administrative_Duration    0.09\n",
       "SpecialDay                 0.08\n",
       "Informational_Duration     0.07\n",
       "Weekend                    0.03\n",
       "Browser                    0.02\n",
       "TrafficType                0.01\n",
       "Region                     0.01\n",
       "OperatingSystems           0.01\n",
       "Name: Revenue, dtype: float64"
      ]
     },
     "execution_count": 29,
     "metadata": {},
     "output_type": "execute_result"
    }
   ],
   "source": [
    "abs(corr[\"Revenue\"]).sort_values(ascending=False)[1:]"
   ]
  },
  {
   "cell_type": "markdown",
   "metadata": {},
   "source": [
    "We chose to sort the absolute values of the correlations so that we see the most important variables, no matter if the correlation is positive or negative. \n",
    "\n",
    "Thus, we see that almost 50% of Revenue is explained by PagesValues. Besides, this correlation is positive so we can say that when the value of PagesValues increase, the probability of a sale increase too. \n",
    "\n",
    "The other variables that are the most correlated to Revenue are ExitRates, ProductRelated and BounceRates. At contrary, OperatingSystem, Region and TrafficType are the least correlated variables with Revenue. We could suppress these variables the dataset as the do not explain much the target variable. "
   ]
  },
  {
   "cell_type": "markdown",
   "metadata": {
    "id": "0s90ZFbiaYWd"
   },
   "source": [
    "## 2. Supervised Learning\n",
    "\n",
    "In this part, thanks to machine learning, we will try to produce effective prediction models to know if a certain session will be concluded by a sale or not. \n",
    "\n",
    "Because our target variable is qualitative, we will use classification models like logistic regression, discriminant analysis, regression trees, ..."
   ]
  },
  {
   "cell_type": "markdown",
   "metadata": {
    "id": "AoM38uX6bGhA"
   },
   "source": [
    "### 2.1. Prepare the dataset\n",
    "In order to train our models we need to split the inital dataset into two parts : a training set and a testing set. \n",
    "\n",
    "But first of all, because our dataset contain qualitative data, we need to transform this into quantitative data. We will represent the months by their number. For boolean values, we'll consider that True correspond to 0 and False to 1. Finally, here are the correspondances for the VisitorType Variable : \n",
    " - 0 : Returning_Visitor\n",
    " - 1 : New_Visitor\n",
    " - 2 : Other"
   ]
  },
  {
   "cell_type": "code",
   "execution_count": 30,
   "metadata": {
    "id": "RjPQeCIwi04s"
   },
   "outputs": [],
   "source": [
    "df[\"Month\"].replace([\"Feb\", \"Mar\", \"May\", \"June\", \"Jul\", \"Aug\", \"Sep\", \"Oct\", \"Nov\", \"Dec\"],[2,3,5,6,7,8,9,10,11,12],inplace = True)\n",
    "df[\"VisitorType\"].replace([\"Returning_Visitor\",\"New_Visitor\",\"Other\"],[0,1,2],inplace=True)\n",
    "df[\"Weekend\"].replace([True,False],[0,1],inplace=True)\n",
    "df[\"Revenue\"].replace([True,False],[0,1],inplace=True)"
   ]
  },
  {
   "cell_type": "markdown",
   "metadata": {},
   "source": [
    "We will also drop some of the variables that are the least correlated to our target, as seen previously. "
   ]
  },
  {
   "cell_type": "code",
   "execution_count": 31,
   "metadata": {},
   "outputs": [],
   "source": [
    "df = df.drop(\"OperatingSystems\", axis = 1)\n",
    "df = df.drop(\"Browser\", axis = 1)\n",
    "df = df.drop(\"TrafficType\", axis = 1)"
   ]
  },
  {
   "cell_type": "markdown",
   "metadata": {
    "id": "4Jr1LKh2nqR8"
   },
   "source": [
    "After that, we can split our dataset into two subsets which will respectively represent the variables and the target of our models."
   ]
  },
  {
   "cell_type": "code",
   "execution_count": 32,
   "metadata": {
    "colab": {
     "base_uri": "https://localhost:8080/"
    },
    "id": "us80QiH4bCAs",
    "outputId": "d50804c6-75b6-4c64-df55-f3e567ae9799"
   },
   "outputs": [
    {
     "data": {
      "text/plain": [
       "((12330, 14), (12330,))"
      ]
     },
     "execution_count": 32,
     "metadata": {},
     "output_type": "execute_result"
    }
   ],
   "source": [
    "target = df[\"Revenue\"]\n",
    "variables = df.drop(\"Revenue\", axis=1)\n",
    "variables.shape, target.shape"
   ]
  },
  {
   "cell_type": "markdown",
   "metadata": {
    "id": "D_Lw4Y-kfRkJ"
   },
   "source": [
    "Then, we split theses dataframe in two to have a train and a test set. We put 40% of the data into the test set and the other 60% into the train set."
   ]
  },
  {
   "cell_type": "code",
   "execution_count": 33,
   "metadata": {
    "id": "37-S0RCucPdk"
   },
   "outputs": [],
   "source": [
    "from sklearn.model_selection import train_test_split\n",
    "\n",
    "var_train, var_test, tar_train, tar_test = train_test_split(variables, target, test_size=0.4, random_state=22)"
   ]
  },
  {
   "cell_type": "markdown",
   "metadata": {
    "id": "Mwt798XwfuMx"
   },
   "source": [
    "Moreover, we need to standardize the data to be sure that dimensions related problems won't occur. Because we splited our dataset into a train and a test set randomly and in order to not lose the indexes of our two sets, we save them before the standardization. "
   ]
  },
  {
   "cell_type": "code",
   "execution_count": 34,
   "metadata": {
    "id": "R7hTS1_ab3Tp"
   },
   "outputs": [],
   "source": [
    "trainIndexes = var_train.index\n",
    "testIndexes = var_test.index\n",
    "\n",
    "trainColumns = var_train.columns\n",
    "testColumns = var_test.columns"
   ]
  },
  {
   "cell_type": "code",
   "execution_count": 35,
   "metadata": {},
   "outputs": [],
   "source": [
    "from sklearn.preprocessing import StandardScaler\n",
    "scaler = StandardScaler()\n",
    "\n",
    "scaler.fit(var_train) # We only fit on the trainning data \n",
    "var_train = pd.DataFrame(scaler.transform(var_train))\n",
    "var_test = pd.DataFrame(scaler.transform(var_test))\n",
    "\n",
    "var_train.index = trainIndexes\n",
    "var_test.index = testIndexes\n",
    "var_train.columns = trainColumns\n",
    "var_test.columns = testColumns"
   ]
  },
  {
   "cell_type": "markdown",
   "metadata": {
    "id": "9nv7y1v-oMbB"
   },
   "source": [
    "Now, our dataset is ready to be exploited in our models."
   ]
  },
  {
   "cell_type": "markdown",
   "metadata": {
    "id": "rzepPJsuobgn"
   },
   "source": [
    "### 2.2. Principal Components Analysis \n",
    "The principal components analysis isn't a machine learning model. It is a method of dimensional reduction. We make a pca before creating models because we hope this will permit us to work with less variables and so reduce computation time. \n",
    "\n",
    "To begin, we apply the pca on our training set and we focus on the 2 first principal components. "
   ]
  },
  {
   "cell_type": "code",
   "execution_count": 36,
   "metadata": {},
   "outputs": [
    {
     "data": {
      "text/html": [
       "<div>\n",
       "<style scoped>\n",
       "    .dataframe tbody tr th:only-of-type {\n",
       "        vertical-align: middle;\n",
       "    }\n",
       "\n",
       "    .dataframe tbody tr th {\n",
       "        vertical-align: top;\n",
       "    }\n",
       "\n",
       "    .dataframe thead th {\n",
       "        text-align: right;\n",
       "    }\n",
       "</style>\n",
       "<table border=\"1\" class=\"dataframe\">\n",
       "  <thead>\n",
       "    <tr style=\"text-align: right;\">\n",
       "      <th></th>\n",
       "      <th>PC1</th>\n",
       "      <th>PC2</th>\n",
       "      <th>Revenue</th>\n",
       "    </tr>\n",
       "  </thead>\n",
       "  <tbody>\n",
       "    <tr>\n",
       "      <th>6869</th>\n",
       "      <td>3.651038</td>\n",
       "      <td>0.862200</td>\n",
       "      <td>1</td>\n",
       "    </tr>\n",
       "    <tr>\n",
       "      <th>639</th>\n",
       "      <td>-0.664892</td>\n",
       "      <td>-0.604622</td>\n",
       "      <td>1</td>\n",
       "    </tr>\n",
       "    <tr>\n",
       "      <th>1</th>\n",
       "      <td>-1.633625</td>\n",
       "      <td>0.346429</td>\n",
       "      <td>1</td>\n",
       "    </tr>\n",
       "    <tr>\n",
       "      <th>4883</th>\n",
       "      <td>-3.382472</td>\n",
       "      <td>3.493156</td>\n",
       "      <td>1</td>\n",
       "    </tr>\n",
       "    <tr>\n",
       "      <th>2363</th>\n",
       "      <td>-3.560440</td>\n",
       "      <td>3.733096</td>\n",
       "      <td>1</td>\n",
       "    </tr>\n",
       "    <tr>\n",
       "      <th>...</th>\n",
       "      <td>...</td>\n",
       "      <td>...</td>\n",
       "      <td>...</td>\n",
       "    </tr>\n",
       "    <tr>\n",
       "      <th>6646</th>\n",
       "      <td>0.219825</td>\n",
       "      <td>-0.754142</td>\n",
       "      <td>0</td>\n",
       "    </tr>\n",
       "    <tr>\n",
       "      <th>5478</th>\n",
       "      <td>-0.958252</td>\n",
       "      <td>0.406435</td>\n",
       "      <td>1</td>\n",
       "    </tr>\n",
       "    <tr>\n",
       "      <th>8548</th>\n",
       "      <td>8.889897</td>\n",
       "      <td>4.125506</td>\n",
       "      <td>0</td>\n",
       "    </tr>\n",
       "    <tr>\n",
       "      <th>6276</th>\n",
       "      <td>0.285453</td>\n",
       "      <td>-3.144463</td>\n",
       "      <td>0</td>\n",
       "    </tr>\n",
       "    <tr>\n",
       "      <th>11125</th>\n",
       "      <td>0.391348</td>\n",
       "      <td>-0.712227</td>\n",
       "      <td>1</td>\n",
       "    </tr>\n",
       "  </tbody>\n",
       "</table>\n",
       "<p>7398 rows × 3 columns</p>\n",
       "</div>"
      ],
      "text/plain": [
       "            PC1       PC2  Revenue\n",
       "6869   3.651038  0.862200        1\n",
       "639   -0.664892 -0.604622        1\n",
       "1     -1.633625  0.346429        1\n",
       "4883  -3.382472  3.493156        1\n",
       "2363  -3.560440  3.733096        1\n",
       "...         ...       ...      ...\n",
       "6646   0.219825 -0.754142        0\n",
       "5478  -0.958252  0.406435        1\n",
       "8548   8.889897  4.125506        0\n",
       "6276   0.285453 -3.144463        0\n",
       "11125  0.391348 -0.712227        1\n",
       "\n",
       "[7398 rows x 3 columns]"
      ]
     },
     "execution_count": 36,
     "metadata": {},
     "output_type": "execute_result"
    }
   ],
   "source": [
    "from sklearn.decomposition import PCA\n",
    "\n",
    "pca = PCA(n_components = 2)\n",
    "principalComponents = pca.fit_transform(var_train)\n",
    "\n",
    "df_pca2 = pd.DataFrame(data = principalComponents, columns = [\"PC1\",\"PC2\"])\n",
    "df_pca2.index = trainIndexes\n",
    "df_pca2 = pd.concat([df_pca2, tar_train], axis = 1)\n",
    "df_pca2"
   ]
  },
  {
   "cell_type": "markdown",
   "metadata": {},
   "source": [
    "Now that we have our two first principal componants, let's vizualise our data in 2 dimensions."
   ]
  },
  {
   "cell_type": "code",
   "execution_count": 37,
   "metadata": {},
   "outputs": [
    {
     "data": {
      "image/png": "[encoded data removed]",
      "text/plain": [
       "<Figure size 576x576 with 1 Axes>"
      ]
     },
     "metadata": {
      "needs_background": "light"
     },
     "output_type": "display_data"
    }
   ],
   "source": [
    "fig = plt.figure(figsize = (8,8))\n",
    "ax = fig.add_subplot(1,1,1) \n",
    "ax.set_xlabel('Principal Component 1', fontsize = 15)\n",
    "ax.set_ylabel('Principal Component 2', fontsize = 15)\n",
    "ax.set_title('2 components PCA', fontsize = 20)\n",
    "targets = [1.0,0.0]\n",
    "colors = [\"r\",\"g\"]\n",
    "for target, color in zip(targets,colors):\n",
    "    indicesToKeep = df_pca2['Revenue'] == target\n",
    "    ax.scatter(df_pca2.loc[indicesToKeep, 'PC1']\n",
    "               , df_pca2.loc[indicesToKeep, 'PC2']\n",
    "               , c = color\n",
    "               , s = 50)\n",
    "ax.legend(targets)\n",
    "ax.grid()"
   ]
  },
  {
   "cell_type": "markdown",
   "metadata": {},
   "source": [
    "This vizualisation doesn't seem very relevant. To verify the relevance of the these two principal components, we compute their explained variance ratio. "
   ]
  },
  {
   "cell_type": "code",
   "execution_count": 38,
   "metadata": {},
   "outputs": [
    {
     "data": {
      "text/plain": [
       "array([0.24502329, 0.12639274])"
      ]
     },
     "execution_count": 38,
     "metadata": {},
     "output_type": "execute_result"
    }
   ],
   "source": [
    "pca.explained_variance_ratio_"
   ]
  },
  {
   "cell_type": "markdown",
   "metadata": {},
   "source": [
    "With these explained variance ratios, we see that our two first principal components only explain 36% of the variance. This percentage is quite low. But our aim is not to specially to visualize our data in a 2D plot, so we can add other principal components to increase the cumulative explained variance ratio. \n",
    "\n",
    "Instead of repeating this process again and again, we create a function that gives us the number of principal components we need in order to obtain a cumulative explained variance ratio greater than a given percentage. "
   ]
  },
  {
   "cell_type": "code",
   "execution_count": 39,
   "metadata": {},
   "outputs": [],
   "source": [
    "def numberOfPC(percentage) :\n",
    "#Return the number of PC needed to reach a certain percentage of cumulative explained ratio.\n",
    "    explainedVar = 0\n",
    "    nbOfPC = 1\n",
    "    while(explainedVar < percentage):\n",
    "        nbOfPC += 1\n",
    "        pca = PCA(n_components = nbOfPC)\n",
    "        pca.fit_transform(var_train)\n",
    "        explainedVar = np.cumsum(pca.explained_variance_ratio_)[nbOfPC-1]\n",
    "    PC_values = np.arange(pca.n_components_) + 1\n",
    "    plt.plot(PC_values, pca.explained_variance_ratio_, 'o-', linewidth=2, color='blue')\n",
    "    plt.title('Scree Plot')\n",
    "    plt.xlabel('Principal Component')\n",
    "    plt.ylabel('Variance Explained')\n",
    "    plt.show()\n",
    "    return(nbOfPC, explainedVar)"
   ]
  },
  {
   "cell_type": "code",
   "execution_count": 40,
   "metadata": {},
   "outputs": [
    {
     "data": {
      "image/png": "[encoded data removed]",
      "text/plain": [
       "<Figure size 432x288 with 1 Axes>"
      ]
     },
     "metadata": {
      "needs_background": "light"
     },
     "output_type": "display_data"
    },
    {
     "data": {
      "text/plain": [
       "(8, 0.8246496199777208)"
      ]
     },
     "execution_count": 40,
     "metadata": {},
     "output_type": "execute_result"
    }
   ],
   "source": [
    "numberOfPC(0.8)"
   ]
  },
  {
   "cell_type": "markdown",
   "metadata": {},
   "source": [
    "Thus, in order to represent at least 75% of the variance of the dataset we need 7 principal components. This represents the half of the number of variables we have in our data set. \n",
    "\n",
    "We can conclude that the principal components analysis was not very concluant on our data. We decide to not use this representation of our data in the following models. "
   ]
  },
  {
   "cell_type": "markdown",
   "metadata": {},
   "source": [
    "### 2.3.  Function to find the best parameters for a model \n",
    "\n",
    "In order to find the better model, we'll test different machine learning model on our dataset. And even in each of these models, we know that different parameters can be chosen. So, to find the better parameters for each models, we use the GridSearchCV function from the sklearn library. We automize this process by creating a function that takes in entry the model we want to test and the possible parameters of this model. This function will return the best score obtained with this model and the parameters used in the model to obtain this score."
   ]
  },
  {
   "cell_type": "code",
   "execution_count": 41,
   "metadata": {},
   "outputs": [],
   "source": [
    "from sklearn.model_selection import GridSearchCV\n",
    "\n",
    "def findBestParameters(model,parameters):\n",
    "    grid = GridSearchCV(model, parameters, n_jobs = -1)\n",
    "    grid.fit(var_train, tar_train)\n",
    "    return grid.best_score_, grid.best_estimator_"
   ]
  },
  {
   "cell_type": "markdown",
   "metadata": {},
   "source": [
    "Now that we created the function, let's test it on a model. We chose the TweedieRegressor model and we test with some parameters. "
   ]
  },
  {
   "cell_type": "code",
   "execution_count": 42,
   "metadata": {},
   "outputs": [
    {
     "data": {
      "text/plain": [
       "(0.22417184614411462, TweedieRegressor(alpha=0.1, link='log', power=1))"
      ]
     },
     "execution_count": 42,
     "metadata": {},
     "output_type": "execute_result"
    }
   ],
   "source": [
    "from sklearn.linear_model import TweedieRegressor\n",
    "parameters = { \"power\": [1, 2, 3],\n",
    "             \"alpha\": [0.1, 0.5, 0.7],\n",
    "             \"link\": [\"log\"]}\n",
    "algo = TweedieRegressor()\n",
    "findBestParameters( algo, parameters )"
   ]
  },
  {
   "cell_type": "markdown",
   "metadata": {},
   "source": [
    "The function returned a score and a list of parameters. But the obtained score is low. Let's try again with other parameters."
   ]
  },
  {
   "cell_type": "code",
   "execution_count": 43,
   "metadata": {},
   "outputs": [
    {
     "data": {
      "text/plain": [
       "(0.3866237644112326, TweedieRegressor(alpha=0.0005, link='log', power=0))"
      ]
     },
     "execution_count": 43,
     "metadata": {},
     "output_type": "execute_result"
    }
   ],
   "source": [
    "parameters = { \"power\": [0, 1, (1,2), 2, 3],\n",
    "             \"alpha\": [ 0.0001, 0.0005, 0.001, 0.005, 0.01, 0.05, 0.1, 0.15, 0.5, 1, 1.5, 2, 5, 10, 20, 50],\n",
    "              \"fit_intercept\" : [True, False], \n",
    "             \"link\": [\"auto\", \"log\"]}\n",
    "findBestParameters( algo, parameters )"
   ]
  },
  {
   "cell_type": "markdown",
   "metadata": {},
   "source": [
    "We tested this model with the all the parameters we could and the best score is still quite low. This model isn't adapted to our dataset. Let's try other models. "
   ]
  },
  {
   "cell_type": "markdown",
   "metadata": {},
   "source": [
    "### 2.4. Test different models \n",
    "\n",
    "In this part, we will test different classification models. We will save the best score of each model into a table and exploit it in the following section. "
   ]
  },
  {
   "cell_type": "code",
   "execution_count": 44,
   "metadata": {},
   "outputs": [],
   "source": [
    "modelsScores = []"
   ]
  },
  {
   "cell_type": "markdown",
   "metadata": {},
   "source": [
    "##### 2.4.1. Logistic Regression\n",
    "\n",
    "Let's try the logistic regression model. For this, we import the LogisticRegression function from sklearn library and we apply the function we created earlier. We first try with not many parameters. "
   ]
  },
  {
   "cell_type": "code",
   "execution_count": 45,
   "metadata": {},
   "outputs": [],
   "source": [
    "from sklearn.linear_model import LogisticRegression"
   ]
  },
  {
   "cell_type": "code",
   "execution_count": 46,
   "metadata": {},
   "outputs": [
    {
     "data": {
      "text/plain": [
       "(0.8822661403797307, LogisticRegression())"
      ]
     },
     "execution_count": 46,
     "metadata": {},
     "output_type": "execute_result"
    }
   ],
   "source": [
    "algo = LogisticRegression()\n",
    "parameters = {\"solver\" : [\"lbfgs\"]}\n",
    "findBestParameters(algo, parameters)"
   ]
  },
  {
   "cell_type": "markdown",
   "metadata": {},
   "source": [
    "With only one random parameter, the model already seem very good with a score of 88.22% of good predictions. Let's improve this score by testing this model with other parameters. "
   ]
  },
  {
   "cell_type": "code",
   "execution_count": 47,
   "metadata": {},
   "outputs": [
    {
     "data": {
      "text/plain": [
       "(0.8852414889534564,\n",
       " LogisticRegression(C=0.1, fit_intercept=False, intercept_scaling=0.01,\n",
       "                    penalty='l1', solver='saga'))"
      ]
     },
     "execution_count": 47,
     "metadata": {},
     "output_type": "execute_result"
    }
   ],
   "source": [
    "parameters = { \"penalty\" : ['l1', 'l2', 'elasticnet', 'none'],\n",
    "              \"dual\" : [True, False],\n",
    "              \"C\" : [0.1, 0.2, 0.3, 0.4, 0.5, 0.6, 0.7, 0.8, 0.9, 1],\n",
    "              \"fit_intercept\" : [True, False], \n",
    "              \"intercept_scaling\" : [0.01, 0.05, 0.1, 0.15, 0.2, 0.5, 1, 1.5, 3, 5, 10, 20],\n",
    "              \"solver\" : ['newton-cg', 'lbfgs', 'sag', 'saga'],\n",
    "              \"multi_class\" : ['auto', 'ov', 'multinomial']}\n",
    "score = findBestParameters(algo, parameters)\n",
    "modelsScores = modelsScores + [\"Logistic Regression\", score[0]]\n",
    "score"
   ]
  },
  {
   "cell_type": "markdown",
   "metadata": {},
   "source": [
    "With the best parameters, the score inscreased by 0.3%. So we can conclude that the best score we can have on this model is 88.52% of good predictions.  "
   ]
  },
  {
   "cell_type": "markdown",
   "metadata": {},
   "source": [
    "##### 2.4.2. Linear Discriminant Analysis\n",
    "\n",
    "Let's try the linear discriminant analysis model. For this, we import the LinearDiscriminantAnalysis function from sklearn library and we apply the function we created earlier. We first try with not many parameters. "
   ]
  },
  {
   "cell_type": "code",
   "execution_count": 48,
   "metadata": {},
   "outputs": [],
   "source": [
    "from sklearn.discriminant_analysis import LinearDiscriminantAnalysis"
   ]
  },
  {
   "cell_type": "code",
   "execution_count": 49,
   "metadata": {},
   "outputs": [
    {
     "data": {
      "text/plain": [
       "(0.8787518959121392, LinearDiscriminantAnalysis())"
      ]
     },
     "execution_count": 49,
     "metadata": {},
     "output_type": "execute_result"
    }
   ],
   "source": [
    "algo = LinearDiscriminantAnalysis()\n",
    "parameters = {\"solver\" : ['svd', 'lsqr', 'eig']}\n",
    "findBestParameters(algo, parameters)"
   ]
  },
  {
   "cell_type": "markdown",
   "metadata": {},
   "source": [
    "With only one random parameter, the model already seem very good with a score of 87.87% of good predictions. Let's improve this score by testing this model with other parameters. "
   ]
  },
  {
   "cell_type": "code",
   "execution_count": 50,
   "metadata": {},
   "outputs": [
    {
     "data": {
      "text/plain": [
       "(0.8787518959121392,\n",
       " LinearDiscriminantAnalysis(n_components=1, store_covariance=True))"
      ]
     },
     "execution_count": 50,
     "metadata": {},
     "output_type": "execute_result"
    }
   ],
   "source": [
    "parameters = {\n",
    "    \"solver\" : ['svd', 'lsqr', 'eig'],\n",
    "    \"shrinkage\" : [None, 'auto'],\n",
    "    \"n_components\" : [1, 2, 3, 5, 10, 20],\n",
    "    \"store_covariance\" : [True, False]}\n",
    "score = findBestParameters(algo, parameters)\n",
    "modelsScores = modelsScores + [\"Linear Discriminant Analysis\", score[0]]\n",
    "score"
   ]
  },
  {
   "cell_type": "markdown",
   "metadata": {},
   "source": [
    "Even with the best parameters, the best score didn't change. So we can conclude that the best score we can have on this model is 87.87% of good predictions.  "
   ]
  },
  {
   "cell_type": "markdown",
   "metadata": {},
   "source": [
    "##### 2.4.3. Quadratic Discriminant Analysis\n",
    "\n",
    "Let's try the quadratic discriminant analysis model. For this, we import the QuadraticDiscriminantAnalysis function from sklearn library and we apply the function we created earlier. We first try with not many parameters."
   ]
  },
  {
   "cell_type": "code",
   "execution_count": 51,
   "metadata": {},
   "outputs": [],
   "source": [
    "from sklearn.discriminant_analysis import QuadraticDiscriminantAnalysis"
   ]
  },
  {
   "cell_type": "code",
   "execution_count": 52,
   "metadata": {},
   "outputs": [
    {
     "data": {
      "text/plain": [
       "(0.8315748405606417, QuadraticDiscriminantAnalysis())"
      ]
     },
     "execution_count": 52,
     "metadata": {},
     "output_type": "execute_result"
    }
   ],
   "source": [
    "algo = QuadraticDiscriminantAnalysis()\n",
    "parameters = {\"store_covariance\" : [False,True]}\n",
    "findBestParameters(algo, parameters)"
   ]
  },
  {
   "cell_type": "markdown",
   "metadata": {},
   "source": [
    "With only one random parameter, the model already seem very good with a score of 83.15% of good predictions. Let's improve this score by testing this model with other parameters. "
   ]
  },
  {
   "cell_type": "code",
   "execution_count": 53,
   "metadata": {},
   "outputs": [
    {
     "data": {
      "text/plain": [
       "(0.8545551230743929, QuadraticDiscriminantAnalysis(reg_param=1))"
      ]
     },
     "execution_count": 53,
     "metadata": {},
     "output_type": "execute_result"
    }
   ],
   "source": [
    "parameters = {\n",
    "    \"store_covariance\" : [False,True],\n",
    "    \"reg_param\" : [0.01, 0.05, 0.1, 0.15, 0.25, 0.5, 0.75, 1, 2, 5, 10, 25]\n",
    "}\n",
    "score = findBestParameters(algo, parameters)\n",
    "modelsScores = modelsScores + [\"Quadratic Discriminant Analysis\", score[0]]\n",
    "score"
   ]
  },
  {
   "cell_type": "markdown",
   "metadata": {},
   "source": [
    "With the best parameters, the score inscreased by 2%. So we can conclude that the best score we can have on this model is 85.45% of good predictions.  "
   ]
  },
  {
   "cell_type": "markdown",
   "metadata": {},
   "source": [
    "##### 2.4.4. Decision Tree Classifier\n",
    "\n",
    "Let's try the decision tree model. For this, we import the DecisionTreeClassifier function from sklearn library and we apply the function we created earlier. We first try with not many parameters."
   ]
  },
  {
   "cell_type": "code",
   "execution_count": 54,
   "metadata": {},
   "outputs": [],
   "source": [
    "from sklearn.tree import DecisionTreeClassifier"
   ]
  },
  {
   "cell_type": "code",
   "execution_count": 55,
   "metadata": {
    "scrolled": true
   },
   "outputs": [
    {
     "data": {
      "text/plain": [
       "(0.8590148566416316, DecisionTreeClassifier(criterion='entropy'))"
      ]
     },
     "execution_count": 55,
     "metadata": {},
     "output_type": "execute_result"
    }
   ],
   "source": [
    "algo = DecisionTreeClassifier()\n",
    "parameters = {\"criterion\" : ['gini','entropy']}\n",
    "findBestParameters(algo, parameters)"
   ]
  },
  {
   "cell_type": "markdown",
   "metadata": {},
   "source": [
    "With only one random parameter, the model already seem very good with a score of 85.96% of good predictions. Let's improve this score by testing this model with other parameters. "
   ]
  },
  {
   "cell_type": "code",
   "execution_count": 56,
   "metadata": {},
   "outputs": [
    {
     "data": {
      "text/plain": [
       "(0.8680723827275552,\n",
       " DecisionTreeClassifier(ccp_alpha=0.01, criterion='entropy', max_features='auto'))"
      ]
     },
     "execution_count": 56,
     "metadata": {},
     "output_type": "execute_result"
    }
   ],
   "source": [
    "parameters = {\n",
    "    \"criterion\" : ['gini','entropy'],\n",
    "    \"splitter\" : ['best', 'random'],\n",
    "    \"max_features\" : ['auto', 'sqrt', 'log2'],\n",
    "    \"ccp_alpha\" : [0, 0.01, 0.1, 0.5, 1, 2.5, 5, 10]}\n",
    "score = findBestParameters(algo, parameters)\n",
    "modelsScores = modelsScores + [\"Decision Tree Classifier\", score[0]]\n",
    "score"
   ]
  },
  {
   "cell_type": "markdown",
   "metadata": {},
   "source": [
    "With the best parameters, the score inscreased by 1.6%. So we can conclude that the best score we can have on this model is 87.61% of good predictions.  \n",
    "\n",
    "Let's plot the tree representing this model. "
   ]
  },
  {
   "cell_type": "code",
   "execution_count": 57,
   "metadata": {},
   "outputs": [
    {
     "data": {
      "text/plain": [
       "[Text(167.4, 190.26, 'X[0] <= -0.547\\nentropy = 0.614\\nsamples = 7398\\nvalue = [1122, 6276]'),\n",
       " Text(83.7, 135.9, 'X[4] <= -0.597\\nentropy = 0.411\\nsamples = 3462\\nvalue = [286, 3176]'),\n",
       " Text(41.85, 81.53999999999999, 'entropy = 0.112\\nsamples = 1135\\nvalue = [17, 1118]'),\n",
       " Text(125.55000000000001, 81.53999999999999, 'entropy = 0.517\\nsamples = 2327\\nvalue = [269, 2058]'),\n",
       " Text(251.10000000000002, 135.9, 'X[9] <= 3.258\\nentropy = 0.746\\nsamples = 3936\\nvalue = [836, 3100]'),\n",
       " Text(209.25, 81.53999999999999, 'X[8] <= -0.317\\nentropy = 0.752\\nsamples = 3844\\nvalue = [829, 3015]'),\n",
       " Text(167.4, 27.180000000000007, 'entropy = 0.321\\nsamples = 2532\\nvalue = [148, 2384]'),\n",
       " Text(251.10000000000002, 27.180000000000007, 'entropy = 0.999\\nsamples = 1312\\nvalue = [681, 631]'),\n",
       " Text(292.95, 81.53999999999999, 'entropy = 0.388\\nsamples = 92\\nvalue = [7, 85]')]"
      ]
     },
     "execution_count": 57,
     "metadata": {},
     "output_type": "execute_result"
    },
    {
     "data": {
      "image/png": "[encoded data removed]",
      "text/plain": [
       "<Figure size 432x288 with 1 Axes>"
      ]
     },
     "metadata": {
      "needs_background": "light"
     },
     "output_type": "display_data"
    }
   ],
   "source": [
    "from sklearn.tree import plot_tree\n",
    "clf = DecisionTreeClassifier(ccp_alpha=0.01, criterion='entropy', max_features='sqrt')\n",
    "clf.fit(var_train,tar_train)\n",
    "clf.predict(var_test)\n",
    "plot_tree(clf)"
   ]
  },
  {
   "cell_type": "markdown",
   "metadata": {},
   "source": [
    "##### 2.4.5. K-Neighbors Clasifier\n",
    "\n",
    "Let's try the K-Neighbors classifier model. For this, we import the KNeighborsClassifier function from sklearn library and we apply the function we created earlier. We first try with not many parameters."
   ]
  },
  {
   "cell_type": "code",
   "execution_count": 58,
   "metadata": {},
   "outputs": [],
   "source": [
    "from sklearn.neighbors import KNeighborsClassifier"
   ]
  },
  {
   "cell_type": "code",
   "execution_count": 59,
   "metadata": {},
   "outputs": [
    {
     "data": {
      "text/plain": [
       "(0.8824010927763464, KNeighborsClassifier(n_neighbors=20))"
      ]
     },
     "execution_count": 59,
     "metadata": {},
     "output_type": "execute_result"
    }
   ],
   "source": [
    "algo = KNeighborsClassifier()\n",
    "parameters = {\"n_neighbors\" : [5,10,15,20,50]}\n",
    "findBestParameters(algo, parameters)"
   ]
  },
  {
   "cell_type": "markdown",
   "metadata": {},
   "source": [
    "With only one random parameter, the model already seem very good with a score of 88.24% of good predictions. \n",
    "\n",
    "We want to improve this score by testing this model with other parameters. But before that, let's find the best number of neighbors. To do so, we create a function that test all the number of neighbors from 1 to 100. The function returns the best number of neighbors according to the \"good predictions\" score. "
   ]
  },
  {
   "cell_type": "code",
   "execution_count": 60,
   "metadata": {},
   "outputs": [],
   "source": [
    "def betterNumberOfNeighbors( ):\n",
    "    max = 0 \n",
    "    neigh_max = 0\n",
    "    scores = []\n",
    "    for i in range(1, 100): \n",
    "        neigh = KNeighborsClassifier( n_neighbors = i )\n",
    "        neigh.fit(var_train, tar_train)\n",
    "        score = neigh.score(var_test,tar_test)\n",
    "        scores.append(score)\n",
    "        if(score > max):\n",
    "            max = score\n",
    "            neigh_max = i\n",
    "    plt.plot(range(1,100),scores)\n",
    "    return neigh_max, score"
   ]
  },
  {
   "cell_type": "code",
   "execution_count": 61,
   "metadata": {
    "scrolled": true
   },
   "outputs": [
    {
     "data": {
      "image/png": "[encoded data removed]",
      "text/plain": [
       "<Figure size 432x288 with 1 Axes>"
      ]
     },
     "metadata": {
      "needs_background": "light"
     },
     "output_type": "display_data"
    }
   ],
   "source": [
    "nbNeighbors = betterNumberOfNeighbors()"
   ]
  },
  {
   "cell_type": "markdown",
   "metadata": {},
   "source": [
    "So, here we know that we will have 11 neighbors in our model.\n",
    "\n",
    "Now, let's try wih other parameters. "
   ]
  },
  {
   "cell_type": "code",
   "execution_count": 62,
   "metadata": {},
   "outputs": [
    {
     "data": {
      "text/plain": [
       "(0.8834824479652067,\n",
       " KNeighborsClassifier(leaf_size=5, n_neighbors=10, p=5, weights='distance'))"
      ]
     },
     "execution_count": 62,
     "metadata": {},
     "output_type": "execute_result"
    }
   ],
   "source": [
    "parameters = {\n",
    "    \"n_neighbors\" : [nbNeighbors[0]],\n",
    "    \"weights\" : ['uniform', 'distance'],\n",
    "    \"algorithm\" : ['auto', 'ball_tree', 'kd_tree', 'brute'],\n",
    "    \"p\" : [1,2,3,4,5],\n",
    "    \"leaf_size\" : [5,10,20,50]\n",
    "}\n",
    "score = findBestParameters(algo, parameters)\n",
    "modelsScores = modelsScores + [\"KNeighbors Classifier\", score[0]]\n",
    "score"
   ]
  },
  {
   "cell_type": "markdown",
   "metadata": {},
   "source": [
    "With the best parameters, the score inscreased by 0.1%. So we can conclude that the best score we can have on this model is 88.34% of good predictions.  "
   ]
  },
  {
   "cell_type": "markdown",
   "metadata": {},
   "source": [
    "### 2.5. Conclusion \n",
    "\n",
    "Finally, we tested 5 machine learning models. Let's vizualise the score of each model and find the best model."
   ]
  },
  {
   "cell_type": "code",
   "execution_count": 63,
   "metadata": {},
   "outputs": [],
   "source": [
    "models = []\n",
    "scores = []\n",
    "    \n",
    "def findBestModel(modSco):\n",
    "    maxi = 0 \n",
    "    bestModel = \"\"\n",
    "    for i in range(0,len(modelsScores), 2): \n",
    "        models.append(modelsScores[i])\n",
    "        scores.append(modelsScores[i+1])\n",
    "        if(modelsScores[i+1]>maxi):\n",
    "            maxi = modelsScores[i+1]\n",
    "            bestModel = modelsScores[i]\n",
    "        print(modelsScores[i] , modelsScores[i+1])\n",
    "    return (bestModel, maxi)"
   ]
  },
  {
   "cell_type": "code",
   "execution_count": 64,
   "metadata": {},
   "outputs": [
    {
     "name": "stdout",
     "output_type": "stream",
     "text": [
      "Logistic Regression 0.8852414889534564\n",
      "Linear Discriminant Analysis 0.8787518959121392\n",
      "Quadratic Discriminant Analysis 0.8545551230743929\n",
      "Decision Tree Classifier 0.8680723827275552\n",
      "KNeighbors Classifier 0.8834824479652067\n"
     ]
    },
    {
     "data": {
      "text/plain": [
       "('Logistic Regression', 0.8852414889534564)"
      ]
     },
     "execution_count": 64,
     "metadata": {},
     "output_type": "execute_result"
    }
   ],
   "source": [
    "findBestModel(modelsScores)"
   ]
  },
  {
   "cell_type": "markdown",
   "metadata": {},
   "source": [
    "Thus, we can see that all the scores are between 85% and 89%. These scores are all quite good, wich means that all the models could be used to predict data from our dataset. But the best model still is the logistic regression with almost 89% of good predictions, as we can see on the plot below. "
   ]
  },
  {
   "cell_type": "code",
   "execution_count": 65,
   "metadata": {},
   "outputs": [
    {
     "data": {
      "text/plain": [
       "Text(0, 0.5, 'best scores')"
      ]
     },
     "execution_count": 65,
     "metadata": {},
     "output_type": "execute_result"
    },
    {
     "data": {
      "image/png": "[encoded data removed]",
      "text/plain": [
       "<Figure size 432x288 with 1 Axes>"
      ]
     },
     "metadata": {
      "needs_background": "light"
     },
     "output_type": "display_data"
    }
   ],
   "source": [
    "plt.plot(['LR','LDA',\"QDA\",'DTC',\"KNC\"], scores)\n",
    "plt.title('Best score of each model')\n",
    "plt.xlabel('models')\n",
    "plt.ylabel('best scores')"
   ]
  },
  {
   "cell_type": "markdown",
   "metadata": {},
   "source": [
    "_____________________________________________________________________________________________________________"
   ]
  }
 ],
 "metadata": {
  "colab": {
   "collapsed_sections": [
    "kVfvNNFMVQaS",
    "j5ZN8HcuWkEW",
    "P1ZwE5ozennj"
   ],
   "name": "PythonFinalProject.ipynb",
   "provenance": []
  },
  "kernelspec": {
   "display_name": "Python 3",
   "language": "python",
   "name": "python3"
  },
  "language_info": {
   "codemirror_mode": {
    "name": "ipython",
    "version": 3
   },
   "file_extension": ".py",
   "mimetype": "text/x-python",
   "name": "python",
   "nbconvert_exporter": "python",
   "pygments_lexer": "ipython3",
   "version": "3.8.3"
  }
 },
 "nbformat": 4,
 "nbformat_minor": 1
}
